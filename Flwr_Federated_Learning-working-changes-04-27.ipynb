{
  "cells": [
    {
      "cell_type": "markdown",
      "metadata": {
        "id": "view-in-github",
        "colab_type": "text"
      },
      "source": [
        "<a href=\"https://colab.research.google.com/github/Allenyang2/PytorchFL/blob/main/Flwr_Federated_Learning-working-changes-04-27.ipynb\" target=\"_parent\"><img src=\"https://colab.research.google.com/assets/colab-badge.svg\" alt=\"Open In Colab\"/></a>"
      ]
    },
    {
      "cell_type": "code",
      "execution_count": 1,
      "metadata": {
        "id": "U82RNhuvFD4N"
      },
      "outputs": [],
      "source": [
        "!pip install -q flwr[simulation] torch torchvision matplotlib"
      ]
    },
    {
      "cell_type": "code",
      "execution_count": 2,
      "metadata": {
        "id": "y1siY2CwFD4O",
        "outputId": "4a227a19-5ffa-48c2-c5a3-28f03a047eb2",
        "colab": {
          "base_uri": "https://localhost:8080/"
        }
      },
      "outputs": [
        {
          "output_type": "stream",
          "name": "stdout",
          "text": [
            "Training on cuda using PyTorch 2.0.0+cu118 and Flower 1.4.0\n"
          ]
        }
      ],
      "source": [
        "from collections import OrderedDict\n",
        "from typing import List, Tuple\n",
        "\n",
        "import matplotlib.pyplot as plt\n",
        "import numpy as np\n",
        "import torch\n",
        "import torch.nn as nn\n",
        "import torch.nn.functional as F\n",
        "import torchvision\n",
        "import torchvision.transforms as transforms\n",
        "from torch.utils.data import DataLoader, random_split\n",
        "from torchvision.datasets import CIFAR10\n",
        "import sys\n",
        "import flwr as fl\n",
        "from flwr.common import Metrics\n",
        "\n",
        "DEVICE = torch.device(\"cuda\")  # Try \"cuda\" to train on GPU\n",
        "print(\n",
        "    f\"Training on {DEVICE} using PyTorch {torch.__version__} and Flower {fl.__version__}\"\n",
        ")"
      ]
    },
    {
      "cell_type": "markdown",
      "metadata": {
        "id": "4eigscBeFD4P"
      },
      "source": [
        "It is possible to switch to a runtime that has GPU acceleration enabled (on Google Colab: `Runtime > Change runtime type > Hardware acclerator: GPU > Save`). Note, however, that Google Colab is not always able to offer GPU acceleration. If you see an error related to GPU availability in one of the following sections, consider switching back to CPU-based execution by setting `DEVICE = torch.device(\"cpu\")`. If the runtime has GPU acceleration enabled, you should see the output `Training on cuda`, otherwise it'll say `Training on cpu`."
      ]
    },
    {
      "cell_type": "code",
      "execution_count": 3,
      "metadata": {
        "id": "v8xH4jXVFD4P"
      },
      "outputs": [],
      "source": [
        "CLASSES = (\n",
        "    \"plane\",\n",
        "    \"car\",\n",
        "    \"bird\",\n",
        "    \"cat\",\n",
        "    \"deer\",\n",
        "    \"dog\",\n",
        "    \"frog\",\n",
        "    \"horse\",\n",
        "    \"ship\",\n",
        "    \"truck\",\n",
        ")"
      ]
    },
    {
      "cell_type": "markdown",
      "metadata": {
        "id": "QYnW44A4FD4P"
      },
      "source": [
        "We simulate having multiple datasets from multiple organizations (also called the \"cross-silo\" setting in federated learning) by splitting the original CIFAR-10 dataset into multiple partitions. Each partition will represent the data from a single organization. We're doing this purely for experimentation purposes, in the real world there's no need for data splitting because each organization already has their own data (so the data is naturally partitioned).\n",
        "\n",
        "Each organization will act as a client in the federated learning system. So having ten organizations participate in a federation means having ten clients connected to the federated learning server:\n"
      ]
    },
    {
      "cell_type": "code",
      "execution_count": 4,
      "metadata": {
        "id": "Mvz_K3tSFD4Q"
      },
      "outputs": [],
      "source": [
        "NUM_CLIENTS = 10"
      ]
    },
    {
      "cell_type": "markdown",
      "metadata": {
        "id": "9PnC4F6PFD4Q"
      },
      "source": [
        "\n",
        "Let's now load the CIFAR-10 training and test set, partition them into ten smaller datasets (each split into training and validation set), and wrap the resulting partitions by creating a PyTorch `DataLoader` for each of them:"
      ]
    },
    {
      "cell_type": "code",
      "execution_count": 5,
      "metadata": {
        "id": "1sKAXxa7FD4Q",
        "outputId": "de29575c-8962-436c-e0da-ce9b4be6ed71",
        "colab": {
          "base_uri": "https://localhost:8080/"
        }
      },
      "outputs": [
        {
          "output_type": "stream",
          "name": "stdout",
          "text": [
            "Files already downloaded and verified\n",
            "Files already downloaded and verified\n"
          ]
        }
      ],
      "source": [
        "BATCH_SIZE = 32\n",
        "\n",
        "\n",
        "def load_datasets():\n",
        "    # Download and transform CIFAR-10 (train and test)\n",
        "    transform = transforms.Compose(\n",
        "        [transforms.ToTensor(), transforms.Normalize((0.5, 0.5, 0.5), (0.5, 0.5, 0.5))]\n",
        "    )\n",
        "    trainset = CIFAR10(\"./dataset\", train=True, download=True, transform=transform)\n",
        "    testset = CIFAR10(\"./dataset\", train=False, download=True, transform=transform)\n",
        "\n",
        "    # Split training set into 10 partitions to simulate the individual dataset\n",
        "    partition_size = len(trainset) // NUM_CLIENTS\n",
        "    lengths = [partition_size] * NUM_CLIENTS\n",
        "    datasets = random_split(trainset, lengths, torch.Generator().manual_seed(42))\n",
        "\n",
        "    # Split each partition into train/val and create DataLoader\n",
        "    trainloaders = []\n",
        "    valloaders = []\n",
        "    for ds in datasets:\n",
        "        len_val = len(ds) // 10  # 10 % validation set\n",
        "        len_train = len(ds) - len_val\n",
        "        lengths = [len_train, len_val]\n",
        "        ds_train, ds_val = random_split(ds, lengths, torch.Generator().manual_seed(42))\n",
        "        trainloaders.append(DataLoader(ds_train, batch_size=BATCH_SIZE, shuffle=True))\n",
        "        valloaders.append(DataLoader(ds_val, batch_size=BATCH_SIZE))\n",
        "    testloader = DataLoader(testset, batch_size=BATCH_SIZE)\n",
        "    return trainloaders, valloaders, testloader\n",
        "\n",
        "\n",
        "trainloaders, valloaders, testloader = load_datasets()"
      ]
    },
    {
      "cell_type": "markdown",
      "metadata": {
        "id": "mp4qXPDCFD4Q"
      },
      "source": [
        "We now have a list of ten training sets and ten validation sets (`trainloaders` and `valloaders`) representing the data of ten different organizations. Each `trainloader`/`valloader` pair contains 4500 training examples and 500 validation examples. There's also a single `testloader` (we did not split the test set). Again, this is only necessary for building research or educational systems, actual federated learning systems have their data naturally distributed across multiple partitions.\n",
        "\n",
        "Let's take a look at the first batch of images and labels in the first training set (i.e., `trainloaders[0]`) before we move on:"
      ]
    },
    {
      "cell_type": "code",
      "execution_count": 6,
      "metadata": {
        "id": "YkoGKBF5FD4Q"
      },
      "outputs": [],
      "source": [
        "images, labels = next(iter(trainloaders[0]))\n",
        "\n",
        "# Reshape and convert images to a NumPy array\n",
        "# matplotlib requires images with the shape (height, width, 3)\n",
        "images = images.permute(0, 2, 3, 1).numpy()\n",
        "# Denormalize\n",
        "images = images / 2 + 0.5\n",
        "\n",
        "# Create a figure and a grid of subplots\n",
        "# fig, axs = plt.subplots(4, 8, figsize=(12, 6))\n",
        "\n",
        "# # Loop over the images and plot them\n",
        "# for i, ax in enumerate(axs.flat):\n",
        "#     ax.imshow(images[i])\n",
        "#     ax.set_title(CLASSES[labels[i]])\n",
        "#     ax.axis(\"off\")\n",
        "\n",
        "# # Show the plot\n",
        "# fig.tight_layout()\n",
        "# plt.show()"
      ]
    },
    {
      "cell_type": "markdown",
      "metadata": {
        "id": "hY40E1zFFD4R"
      },
      "source": [
        "### Defining the model\n",
        "\n",
        "We use the simple CNN described in the [PyTorch tutorial](https://pytorch.org/tutorials/beginner/blitz/cifar10_tutorial.html#define-a-convolutional-neural-network):"
      ]
    },
    {
      "cell_type": "code",
      "execution_count": 7,
      "metadata": {
        "id": "Te4C6-IGFD4R"
      },
      "outputs": [],
      "source": [
        "class Net(nn.Module):\n",
        "    def __init__(self) -> None:\n",
        "        super(Net, self).__init__()\n",
        "        self.conv1 = nn.Conv2d(3, 6, 5)\n",
        "        self.pool = nn.MaxPool2d(2, 2)\n",
        "        self.conv2 = nn.Conv2d(6, 16, 5)\n",
        "        self.fc1 = nn.Linear(16 * 5 * 5, 120)\n",
        "        self.fc2 = nn.Linear(120, 84)\n",
        "        self.fc3 = nn.Linear(84, 10)\n",
        "\n",
        "    def forward(self, x: torch.Tensor) -> torch.Tensor:\n",
        "        x = self.pool(F.relu(self.conv1(x)))\n",
        "        x = self.pool(F.relu(self.conv2(x)))\n",
        "        x = x.view(-1, 16 * 5 * 5)\n",
        "        x = F.relu(self.fc1(x))\n",
        "        x = F.relu(self.fc2(x))\n",
        "        x = self.fc3(x)\n",
        "        return x"
      ]
    },
    {
      "cell_type": "markdown",
      "metadata": {
        "id": "FUOfn3YuFD4R"
      },
      "source": [
        "Let's continue with the usual training and test functions:"
      ]
    },
    {
      "cell_type": "code",
      "execution_count": 8,
      "metadata": {
        "id": "W6RLXYjAFD4R"
      },
      "outputs": [],
      "source": [
        "def train(net, trainloader, epochs: int, verbose=False):\n",
        "    \"\"\"Train the network on the training set.\"\"\"\n",
        "    criterion = torch.nn.CrossEntropyLoss()\n",
        "    optimizer = torch.optim.Adam(net.parameters())\n",
        "    net.train()\n",
        "    for epoch in range(epochs):\n",
        "        correct, total, epoch_loss = 0, 0, 0.0\n",
        "        for images, labels in trainloader:\n",
        "            images, labels = images.to(DEVICE), labels.to(DEVICE)\n",
        "            optimizer.zero_grad()\n",
        "            outputs = net(images)\n",
        "            loss = criterion(outputs, labels)\n",
        "            loss.backward()\n",
        "            optimizer.step()\n",
        "            # Metrics\n",
        "            epoch_loss += loss\n",
        "            total += labels.size(0)\n",
        "            correct += (torch.max(outputs.data, 1)[1] == labels).sum().item()\n",
        "        epoch_loss /= len(trainloader.dataset)\n",
        "        epoch_acc = correct / total\n",
        "        if verbose:\n",
        "            print(f\"Epoch {epoch+1}: train loss {epoch_loss}, accuracy {epoch_acc}\")\n",
        "\n",
        "\n",
        "def test(net, testloader):\n",
        "    \"\"\"Evaluate the network on the entire test set.\"\"\"\n",
        "    criterion = torch.nn.CrossEntropyLoss()\n",
        "    correct, total, loss = 0, 0, 0.0\n",
        "    net.eval()\n",
        "    with torch.no_grad():\n",
        "        for images, labels in testloader:\n",
        "            images, labels = images.to(DEVICE), labels.to(DEVICE)\n",
        "            outputs = net(images)\n",
        "            loss += criterion(outputs, labels).item()\n",
        "            _, predicted = torch.max(outputs.data, 1)\n",
        "            total += labels.size(0)\n",
        "            correct += (predicted == labels).sum().item()\n",
        "    loss /= len(testloader.dataset)\n",
        "    accuracy = correct / total\n",
        "    return loss, accuracy"
      ]
    },
    {
      "cell_type": "markdown",
      "metadata": {
        "id": "oPZJ7BZlFD4S"
      },
      "source": [
        "### Training the model\n",
        "\n",
        "We now have all the basic building blocks we need: a dataset, a model, a training function, and a test function. Let's put them together to train the model on the dataset of one of our organizations (`trainloaders[0]`). This simulates the reality of most machine learning projects today: each organization has their own data and trains models only on this internal data: "
      ]
    },
    {
      "cell_type": "code",
      "execution_count": 9,
      "metadata": {
        "id": "ldqWF4CAFD4S"
      },
      "outputs": [],
      "source": [
        "trainloader = trainloaders[0]\n",
        "valloader = valloaders[0]\n",
        "net = Net().to(DEVICE)\n",
        "\n",
        "# for epoch in range(5):\n",
        "#     train(net, trainloader, 1)\n",
        "#     loss, accuracy = test(net, valloader)\n",
        "#     print(f\"Epoch {epoch+1}: validation loss {loss}, accuracy {accuracy}\")\n",
        "\n",
        "# loss, accuracy = test(net, testloader)\n",
        "# print(f\"Final test set performance:\\n\\tloss {loss}\\n\\taccuracy {accuracy}\")"
      ]
    },
    {
      "cell_type": "markdown",
      "metadata": {
        "id": "n9slG_efFD4S"
      },
      "source": [
        "Training the simple CNN on our CIFAR-10 split for 5 epochs should result in a test set accuracy of about 41%, which is not good, but at the same time, it doesn't really matter for the purposes of this tutorial. The intent was just to show a simplistic centralized training pipeline that sets the stage for what comes next - federated learning!"
      ]
    },
    {
      "cell_type": "markdown",
      "metadata": {
        "id": "Laduo8uOFD4S"
      },
      "source": [
        "### Updating model parameters\n",
        "\n",
        "In federated learning, the server sends the global model parameters to the client, and the client updates the local model with the parameters received from the server. It then trains the model on the local data (which changes the model parameters locally) and sends the updated/changed model parameters back to the server (or, alternatively, it sends just the gradients back to the server, not the full model parameters).\n",
        "\n",
        "We need two helper functions to update the local model with parameters received from the server and to get the updated model parameters from the local model: `set_parameters` and `get_parameters`. The following two functions do just that for the PyTorch model above.\n",
        "\n",
        "The details of how this works are not really important here (feel free to consult the PyTorch documentation if you want to learn more). In essence, we use `state_dict` to access PyTorch model parameter tensors. The parameter tensors are then converted to/from a list of NumPy ndarray's (which Flower knows how to serialize/deserialize):"
      ]
    },
    {
      "cell_type": "code",
      "execution_count": 10,
      "metadata": {
        "id": "oQnk0ZsdFD4S"
      },
      "outputs": [],
      "source": [
        "def get_parameters(net) -> List[np.ndarray]:\n",
        "    parameters = [val.cpu().numpy() for _, val in net.state_dict().items()]\n",
        "    # print(f\"Parameters size: {get_params_size(parameters)} bytes\")\n",
        "    return parameters\n",
        "\n",
        "\n",
        "def set_parameters(net, parameters: List[np.ndarray]):\n",
        "    params_dict = zip(net.state_dict().keys(), parameters)\n",
        "    state_dict = OrderedDict({k: torch.Tensor(v) for k, v in params_dict})\n",
        "    net.load_state_dict(state_dict, strict=True)"
      ]
    },
    {
      "cell_type": "markdown",
      "metadata": {
        "id": "Hi01ChcRFD4S"
      },
      "source": [
        "### Implementing a Flower client\n",
        "\n",
        "With that out of the way, let's move on to the interesting part. Federated learning systems consist of a server and multiple clients. In Flower, we create clients by implementing subclasses of `flwr.client.Client` or `flwr.client.NumPyClient`. We use `NumPyClient` in this tutorial because it is easier to implement and requires us to write less boilerplate.\n",
        "\n",
        "To implement the Flower client, we create a subclass of `flwr.client.NumPyClient` and implement the three methods `get_parameters`, `fit`, and `evaluate`:\n",
        "\n",
        "* `get_parameters`: Return the current local model parameters\n",
        "* `fit`: Receive model parameters from the server, train the model parameters on the local data, and return the (updated) model parameters to the server\n",
        "* `evaluate`: Receive model parameters from the server, evaluate the model parameters on the local data, and return the evaluation result to the server\n",
        "\n",
        "We mentioned that our clients will use the previously defined PyTorch components for model training and evaluation. Let's see a simple Flower client implementation that brings everything together:"
      ]
    },
    {
      "cell_type": "code",
      "source": [
        "def get_params_size(parameters):\n",
        "    total_size = 0\n",
        "    for p in parameters:\n",
        "        total_size += sys.getsizeof(p)\n",
        "        if isinstance(p, np.ndarray):\n",
        "            total_size += p.nbytes\n",
        "    return total_size\n"
      ],
      "metadata": {
        "id": "fRl-goiZCkcV"
      },
      "execution_count": 11,
      "outputs": []
    },
    {
      "cell_type": "code",
      "execution_count": 12,
      "metadata": {
        "id": "FYENyfxgFD4S"
      },
      "outputs": [],
      "source": [
        "import time\n",
        "# import logging\n",
        "# import multiprocessing\n",
        "\n",
        "class FlowerClient(fl.client.NumPyClient):\n",
        "\n",
        "      def __init__(self, cid, net, trainloader, valloader):\n",
        "          self.cid = cid\n",
        "          self.net = net\n",
        "          self.trainloader = trainloader\n",
        "          self.valloader = valloader\n",
        "          # self.logger = logging.getLogger(f\"Client {cid}\")\n",
        "          # self.logger.setLevel(logging.INFO)\n",
        "          # self.file_handler = logging.FileHandler(f\"client_{cid}_log.txt\")\n",
        "          # self.logger.addHandler(self.file_handler)\n",
        "\n",
        "      def get_parameters(self, config):\n",
        "          return get_parameters(self.net)\n",
        "\n",
        "      def fit(self, parameters, config):\n",
        "        with open(f\"client_{self.cid}_log.txt\", \"a\") as f:\n",
        "          set_parameters(self.net, parameters)\n",
        "          start_time = time.time()\n",
        "          train(self.net, self.trainloader, epochs=1)\n",
        "          end_time = time.time()\n",
        "          total_time = end_time - start_time\n",
        "          adj_total_time = (\"%.3f\" %(total_time))\n",
        "          parameters = get_parameters(self.net)\n",
        "          print(f\"Client ID: {self.cid}, Parameters size: {get_params_size(parameters)} bytes, Total Time: {adj_total_time}\")\n",
        "          f.write(f\"Client ID: {self.cid}, Parameters size: {get_params_size(parameters)} bytes, Total Time: {adj_total_time}\\n\")\n",
        "          f.write(\"\\n\")\n",
        "          return parameters, len(self.trainloader), {}\n",
        "\n",
        "      def evaluate(self, parameters, config):\n",
        "        # with open(f\"client_{self.cid}_evaluate.txt\", \"w\") as d:\n",
        "        with open(f\"client_{self.cid}_evaluate.txt\", \"a\") as f:\n",
        "          set_parameters(self.net, parameters)\n",
        "          loss, accuracy = test(self.net, self.valloader)\n",
        "          print(f\"Client ID: {self.cid}, Loss: {loss}, Accuracy: {accuracy}\")\n",
        "          f.write(f\"Client ID: {self.cid}, Loss: {loss}, Accuracy: {accuracy}\")\n",
        "          f.write(\"\\n\")\n",
        "          return float(loss), len(self.valloader), {\"accuracy\": float(accuracy)}\n",
        "\n"
      ]
    },
    {
      "cell_type": "markdown",
      "metadata": {
        "id": "J6hsZG2cFD4S"
      },
      "source": [
        "Our class `FlowerClient` defines how local training/evaluation will be performed and allows Flower to call the local training/evaluation through `fit` and `evaluate`. Each instance of `FlowerClient` represents a *single client* in our federated learning system. Federated learning systems have multiple clients (otherwise, there's not much to federate), so each client will be represented by its own instance of `FlowerClient`. If we have, for example, three clients in our workload, then we'd have three instances of `FlowerClient`. Flower calls `FlowerClient.fit` on the respective instance when the server selects a particular client for training (and `FlowerClient.evaluate` for evaluation).\n",
        "\n",
        "### Using the Virtual Client Engine\n",
        "\n",
        "In this notebook, we want to simulate a federated learning system with 10 clients on a single machine. This means that the server and all 10 clients will live on a single machine and share resources such as CPU, GPU, and memory. Having 10 clients would mean having 10 instances of `FlowerClient` in memory. Doing this on a single machine can quickly exhaust the available memory resources, even if only a subset of these clients participates in a single round of federated learning.\n",
        "\n",
        "In addition to the regular capabilities where server and clients run on multiple machines, Flower, therefore, provides special simulation capabilities that create `FlowerClient` instances only when they are actually necessary for training or evaluation. To enable the Flower framework to create clients when necessary, we need to implement a function called `client_fn` that creates a `FlowerClient` instance on demand. Flower calls `client_fn` whenever it needs an instance of one particular client to call `fit` or `evaluate` (those instances are usually discarded after use, so they should not keep any local state). Clients are identified by a client ID, or short `cid`. The `cid` can be used, for example, to load different local data partitions for different clients, as can be seen below:"
      ]
    },
    {
      "cell_type": "code",
      "execution_count": 13,
      "metadata": {
        "id": "tpF7mC7NFD4T"
      },
      "outputs": [],
      "source": [
        "def client_fn(cid: str) -> FlowerClient:\n",
        "    \"\"\"Create a Flower client representing a single organization.\"\"\"\n",
        "\n",
        "    # Load model\n",
        "    net = Net().to(DEVICE)\n",
        "\n",
        "    # Load data (CIFAR-10)\n",
        "    # Note: each client gets a different trainloader/valloader, so each client\n",
        "    # will train and evaluate on their own unique data\n",
        "    trainloader = trainloaders[int(cid)]\n",
        "    valloader = valloaders[int(cid)]\n",
        "    return FlowerClient(cid, net, trainloader, valloader)"
      ]
    },
    {
      "cell_type": "markdown",
      "metadata": {
        "id": "5skL5fIuFD4T"
      },
      "source": [
        "### Starting the training\n",
        "\n",
        "We now have the class `FlowerClient` which defines client-side training/evaluation and `client_fn` which allows Flower to create `FlowerClient` instances whenever it needs to call `fit` or `evaluate` on one particular client. The last step is to start the actual simulation using `flwr.simulation.start_simulation`. \n",
        "\n",
        "The function `start_simulation` accepts a number of arguments, amongst them the `client_fn` used to create `FlowerClient` instances, the number of clients to simulate (`num_clients`), the number of federated learning rounds (`num_rounds`), and the strategy. The strategy encapsulates the federated learning approach/algorithm, for example, *Federated Averaging* (FedAvg).\n",
        "\n",
        "Flower has a number of built-in strategies, but we can also use our own strategy implementations to customize nearly all aspects of the federated learning approach. For this example, we use the built-in `FedAvg` implementation and customize it using a few basic parameters. The last step is the actual call to `start_simulation` which - you guessed it - starts the simulation:"
      ]
    },
    {
      "cell_type": "code",
      "execution_count": 14,
      "metadata": {
        "id": "vhOMGAHcFD4T"
      },
      "outputs": [],
      "source": [
        "def weighted_average(metrics: List[Tuple[int, Metrics]]) -> Metrics:\n",
        "    # Multiply accuracy of each client by number of examples used\n",
        "    accuracies = [num_examples * m[\"accuracy\"] for num_examples, m in metrics]\n",
        "    examples = [num_examples for num_examples, _ in metrics]\n",
        "\n",
        "    # Aggregate and return custom metric (weighted average)\n",
        "    return {\"accuracy\": sum(accuracies) / sum(examples)}"
      ]
    },
    {
      "cell_type": "code",
      "source": [
        "#function to remove old files (possibly for colab only*)\n",
        "\n",
        "import os\n",
        "import glob\n",
        "\n",
        "file_key = \"client*.txt\"\n",
        "for del_file in glob.glob(file_key):\n",
        "  os.remove(del_file)\n",
        "\n",
        "os.environ['TF_CPP_MIN_LOG_LEVEL'] = '3'"
      ],
      "metadata": {
        "id": "z9vyDhIN-2Wd"
      },
      "execution_count": 15,
      "outputs": []
    },
    {
      "cell_type": "markdown",
      "metadata": {
        "id": "Ems1glDkFD4T"
      },
      "source": [
        "The only thing left to do is to tell the strategy to call this function whenever it receives evaluation metric dictionaries from the clients:"
      ]
    },
    {
      "cell_type": "code",
      "execution_count": 16,
      "metadata": {
        "id": "I1HsthQuFD4T",
        "outputId": "d443ed8f-d507-4975-a723-0ada9ee9d24d",
        "colab": {
          "base_uri": "https://localhost:8080/"
        }
      },
      "outputs": [
        {
          "output_type": "stream",
          "name": "stderr",
          "text": [
            "INFO flwr 2023-04-27 20:10:13,750 | app.py:146 | Starting Flower simulation, config: ServerConfig(num_rounds=5, round_timeout=None)\n",
            "INFO:flwr:Starting Flower simulation, config: ServerConfig(num_rounds=5, round_timeout=None)\n",
            "2023-04-27 20:10:17,182\tINFO worker.py:1625 -- Started a local Ray instance.\n",
            "INFO flwr 2023-04-27 20:10:18,536 | app.py:180 | Flower VCE: Ray initialized with resources: {'object_store_memory': 3861033369.0, 'node:172.28.0.12': 1.0, 'memory': 7722066740.0, 'GPU': 1.0, 'CPU': 2.0}\n",
            "INFO:flwr:Flower VCE: Ray initialized with resources: {'object_store_memory': 3861033369.0, 'node:172.28.0.12': 1.0, 'memory': 7722066740.0, 'GPU': 1.0, 'CPU': 2.0}\n",
            "INFO flwr 2023-04-27 20:10:18,544 | server.py:86 | Initializing global parameters\n",
            "INFO:flwr:Initializing global parameters\n",
            "INFO flwr 2023-04-27 20:10:18,550 | server.py:273 | Requesting initial parameters from one random client\n",
            "INFO:flwr:Requesting initial parameters from one random client\n",
            "INFO flwr 2023-04-27 20:10:31,609 | server.py:277 | Received initial parameters from one random client\n",
            "INFO:flwr:Received initial parameters from one random client\n",
            "INFO flwr 2023-04-27 20:10:31,612 | server.py:88 | Evaluating initial parameters\n",
            "INFO:flwr:Evaluating initial parameters\n",
            "INFO flwr 2023-04-27 20:10:31,616 | server.py:101 | FL starting\n",
            "INFO:flwr:FL starting\n",
            "DEBUG flwr 2023-04-27 20:10:31,619 | server.py:218 | fit_round 1: strategy sampled 10 clients (out of 10)\n",
            "DEBUG:flwr:fit_round 1: strategy sampled 10 clients (out of 10)\n"
          ]
        },
        {
          "output_type": "stream",
          "name": "stdout",
          "text": [
            "\u001b[2m\u001b[36m(launch_and_fit pid=58330)\u001b[0m Client ID: 3, Parameters size: 249288 bytes, Total Time: 2.110\n",
            "\u001b[2m\u001b[1m\u001b[36m(autoscaler +39s)\u001b[0m Tip: use `ray status` to view detailed cluster status. To disable these messages, set RAY_SCHEDULER_EVENTS=0.\n",
            "\u001b[2m\u001b[1m\u001b[33m(autoscaler +39s)\u001b[0m Warning: The following resource request cannot be scheduled right now: {'CPU': 1.0, 'GPU': 1.0}. This is likely due to all cluster resources being claimed by actors. Consider creating fewer actors or adding more nodes to this Ray cluster.\n",
            "\u001b[2m\u001b[36m(launch_and_fit pid=58409)\u001b[0m Client ID: 9, Parameters size: 249288 bytes, Total Time: 1.888\n",
            "\u001b[2m\u001b[36m(launch_and_fit pid=58483)\u001b[0m Client ID: 0, Parameters size: 249288 bytes, Total Time: 1.893\n",
            "\u001b[2m\u001b[36m(launch_and_fit pid=58571)\u001b[0m Client ID: 7, Parameters size: 249288 bytes, Total Time: 2.607\n",
            "\u001b[2m\u001b[36m(launch_and_fit pid=58649)\u001b[0m Client ID: 8, Parameters size: 249288 bytes, Total Time: 1.884\n",
            "\u001b[2m\u001b[36m(launch_and_fit pid=58729)\u001b[0m Client ID: 6, Parameters size: 249288 bytes, Total Time: 3.342\n",
            "\u001b[2m\u001b[36m(launch_and_fit pid=58814)\u001b[0m Client ID: 5, Parameters size: 249288 bytes, Total Time: 1.768\n",
            "\u001b[2m\u001b[36m(launch_and_fit pid=58889)\u001b[0m Client ID: 2, Parameters size: 249288 bytes, Total Time: 3.383\n",
            "\u001b[2m\u001b[36m(launch_and_fit pid=58980)\u001b[0m Client ID: 1, Parameters size: 249288 bytes, Total Time: 1.836\n"
          ]
        },
        {
          "output_type": "stream",
          "name": "stderr",
          "text": [
            "DEBUG flwr 2023-04-27 20:12:11,899 | server.py:232 | fit_round 1 received 10 results and 0 failures\n",
            "DEBUG:flwr:fit_round 1 received 10 results and 0 failures\n",
            "WARNING flwr 2023-04-27 20:12:11,927 | fedavg.py:243 | No fit_metrics_aggregation_fn provided\n",
            "WARNING:flwr:No fit_metrics_aggregation_fn provided\n",
            "DEBUG flwr 2023-04-27 20:12:11,930 | server.py:168 | evaluate_round 1: strategy sampled 5 clients (out of 10)\n",
            "DEBUG:flwr:evaluate_round 1: strategy sampled 5 clients (out of 10)\n"
          ]
        },
        {
          "output_type": "stream",
          "name": "stdout",
          "text": [
            "\u001b[2m\u001b[36m(launch_and_fit pid=59057)\u001b[0m Client ID: 4, Parameters size: 249288 bytes, Total Time: 2.781\n",
            "\u001b[2m\u001b[1m\u001b[33m(autoscaler +2m10s)\u001b[0m Warning: The following resource request cannot be scheduled right now: {'CPU': 1.0, 'GPU': 1.0}. This is likely due to all cluster resources being claimed by actors. Consider creating fewer actors or adding more nodes to this Ray cluster.\n",
            "\u001b[2m\u001b[36m(launch_and_evaluate pid=59163)\u001b[0m Client ID: 8, Loss: 0.06437034440040589, Accuracy: 0.29\n",
            "\u001b[2m\u001b[36m(launch_and_evaluate pid=59227)\u001b[0m Client ID: 1, Loss: 0.06371496081352233, Accuracy: 0.28\n",
            "\u001b[2m\u001b[36m(launch_and_evaluate pid=59301)\u001b[0m Client ID: 5, Loss: 0.06228993773460388, Accuracy: 0.29\n",
            "\u001b[2m\u001b[36m(launch_and_evaluate pid=59366)\u001b[0m Client ID: 3, Loss: 0.06419980239868164, Accuracy: 0.262\n"
          ]
        },
        {
          "output_type": "stream",
          "name": "stderr",
          "text": [
            "DEBUG flwr 2023-04-27 20:12:51,670 | server.py:182 | evaluate_round 1 received 5 results and 0 failures\n",
            "DEBUG:flwr:evaluate_round 1 received 5 results and 0 failures\n",
            "DEBUG flwr 2023-04-27 20:12:51,675 | server.py:218 | fit_round 2: strategy sampled 10 clients (out of 10)\n",
            "DEBUG:flwr:fit_round 2: strategy sampled 10 clients (out of 10)\n"
          ]
        },
        {
          "output_type": "stream",
          "name": "stdout",
          "text": [
            "\u001b[2m\u001b[36m(launch_and_evaluate pid=59443)\u001b[0m Client ID: 4, Loss: 0.06308351063728332, Accuracy: 0.282\n",
            "\u001b[2m\u001b[36m(launch_and_fit pid=59527)\u001b[0m Client ID: 4, Parameters size: 249288 bytes, Total Time: 1.848\n",
            "\u001b[2m\u001b[36m(launch_and_fit pid=59625)\u001b[0m Client ID: 8, Parameters size: 249288 bytes, Total Time: 2.987\n",
            "\u001b[2m\u001b[36m(launch_and_fit pid=59709)\u001b[0m Client ID: 1, Parameters size: 249288 bytes, Total Time: 1.884\n",
            "\u001b[2m\u001b[36m(launch_and_fit pid=59782)\u001b[0m Client ID: 6, Parameters size: 249288 bytes, Total Time: 1.882\n",
            "\u001b[2m\u001b[1m\u001b[33m(autoscaler +3m30s)\u001b[0m Warning: The following resource request cannot be scheduled right now: {'GPU': 1.0, 'CPU': 1.0}. This is likely due to all cluster resources being claimed by actors. Consider creating fewer actors or adding more nodes to this Ray cluster.\n",
            "\u001b[2m\u001b[36m(launch_and_fit pid=59868)\u001b[0m Client ID: 0, Parameters size: 249288 bytes, Total Time: 2.392\n",
            "\u001b[2m\u001b[36m(launch_and_fit pid=59946)\u001b[0m Client ID: 3, Parameters size: 249288 bytes, Total Time: 1.848\n",
            "\u001b[2m\u001b[36m(launch_and_fit pid=60023)\u001b[0m Client ID: 5, Parameters size: 249288 bytes, Total Time: 2.593\n",
            "\u001b[2m\u001b[36m(launch_and_fit pid=60100)\u001b[0m Client ID: 9, Parameters size: 249288 bytes, Total Time: 1.847\n",
            "\u001b[2m\u001b[36m(launch_and_fit pid=60180)\u001b[0m Client ID: 2, Parameters size: 249288 bytes, Total Time: 2.631\n"
          ]
        },
        {
          "output_type": "stream",
          "name": "stderr",
          "text": [
            "DEBUG flwr 2023-04-27 20:14:29,704 | server.py:232 | fit_round 2 received 10 results and 0 failures\n",
            "DEBUG:flwr:fit_round 2 received 10 results and 0 failures\n",
            "DEBUG flwr 2023-04-27 20:14:29,732 | server.py:168 | evaluate_round 2: strategy sampled 5 clients (out of 10)\n",
            "DEBUG:flwr:evaluate_round 2: strategy sampled 5 clients (out of 10)\n"
          ]
        },
        {
          "output_type": "stream",
          "name": "stdout",
          "text": [
            "\u001b[2m\u001b[36m(launch_and_fit pid=60256)\u001b[0m Client ID: 7, Parameters size: 249288 bytes, Total Time: 1.853\n",
            "\u001b[2m\u001b[36m(launch_and_evaluate pid=60365)\u001b[0m Client ID: 6, Loss: 0.05681298089027405, Accuracy: 0.352\n",
            "\u001b[2m\u001b[36m(launch_and_evaluate pid=60436)\u001b[0m Client ID: 7, Loss: 0.055895838737487796, Accuracy: 0.342\n",
            "\u001b[2m\u001b[36m(launch_and_evaluate pid=60501)\u001b[0m Client ID: 1, Loss: 0.05755587315559387, Accuracy: 0.354\n",
            "\u001b[2m\u001b[36m(launch_and_evaluate pid=60575)\u001b[0m Client ID: 4, Loss: 0.05698823094367981, Accuracy: 0.332\n"
          ]
        },
        {
          "output_type": "stream",
          "name": "stderr",
          "text": [
            "DEBUG flwr 2023-04-27 20:15:12,244 | server.py:182 | evaluate_round 2 received 5 results and 0 failures\n",
            "DEBUG:flwr:evaluate_round 2 received 5 results and 0 failures\n",
            "DEBUG flwr 2023-04-27 20:15:12,250 | server.py:218 | fit_round 3: strategy sampled 10 clients (out of 10)\n",
            "DEBUG:flwr:fit_round 3: strategy sampled 10 clients (out of 10)\n"
          ]
        },
        {
          "output_type": "stream",
          "name": "stdout",
          "text": [
            "\u001b[2m\u001b[36m(launch_and_evaluate pid=60640)\u001b[0m Client ID: 8, Loss: 0.05602821636199951, Accuracy: 0.354\n",
            "\u001b[2m\u001b[36m(launch_and_fit pid=60752)\u001b[0m Client ID: 9, Parameters size: 249288 bytes, Total Time: 2.817\n",
            "\u001b[2m\u001b[36m(launch_and_fit pid=60828)\u001b[0m Client ID: 4, Parameters size: 249288 bytes, Total Time: 1.855\n",
            "\u001b[2m\u001b[36m(launch_and_fit pid=60909)\u001b[0m Client ID: 8, Parameters size: 249288 bytes, Total Time: 3.554\n",
            "\u001b[2m\u001b[36m(launch_and_fit pid=61004)\u001b[0m Client ID: 3, Parameters size: 249288 bytes, Total Time: 1.893\n",
            "\u001b[2m\u001b[36m(launch_and_fit pid=61079)\u001b[0m Client ID: 6, Parameters size: 249288 bytes, Total Time: 1.941\n",
            "\u001b[2m\u001b[36m(launch_and_fit pid=61168)\u001b[0m Client ID: 2, Parameters size: 249288 bytes, Total Time: 2.468\n",
            "\u001b[2m\u001b[36m(launch_and_fit pid=61243)\u001b[0m Client ID: 5, Parameters size: 249288 bytes, Total Time: 1.835\n",
            "\u001b[2m\u001b[1m\u001b[33m(autoscaler +6m20s)\u001b[0m Warning: The following resource request cannot be scheduled right now: {'GPU': 1.0, 'CPU': 1.0}. This is likely due to all cluster resources being claimed by actors. Consider creating fewer actors or adding more nodes to this Ray cluster.\n",
            "\u001b[2m\u001b[36m(launch_and_fit pid=61326)\u001b[0m Client ID: 1, Parameters size: 249288 bytes, Total Time: 2.700\n",
            "\u001b[2m\u001b[36m(launch_and_fit pid=61406)\u001b[0m Client ID: 0, Parameters size: 249288 bytes, Total Time: 1.827\n"
          ]
        },
        {
          "output_type": "stream",
          "name": "stderr",
          "text": [
            "DEBUG flwr 2023-04-27 20:16:53,044 | server.py:232 | fit_round 3 received 10 results and 0 failures\n",
            "DEBUG:flwr:fit_round 3 received 10 results and 0 failures\n",
            "DEBUG flwr 2023-04-27 20:16:53,081 | server.py:168 | evaluate_round 3: strategy sampled 5 clients (out of 10)\n",
            "DEBUG:flwr:evaluate_round 3: strategy sampled 5 clients (out of 10)\n"
          ]
        },
        {
          "output_type": "stream",
          "name": "stdout",
          "text": [
            "\u001b[2m\u001b[36m(launch_and_fit pid=61480)\u001b[0m Client ID: 7, Parameters size: 249288 bytes, Total Time: 2.607\n",
            "\u001b[2m\u001b[36m(launch_and_evaluate pid=61587)\u001b[0m Client ID: 3, Loss: 0.053915743112564085, Accuracy: 0.388\n",
            "\u001b[2m\u001b[36m(launch_and_evaluate pid=61651)\u001b[0m Client ID: 8, Loss: 0.05205163717269898, Accuracy: 0.396\n",
            "\u001b[2m\u001b[36m(launch_and_evaluate pid=61729)\u001b[0m Client ID: 7, Loss: 0.0513692696094513, Accuracy: 0.416\n",
            "\u001b[2m\u001b[36m(launch_and_evaluate pid=61794)\u001b[0m Client ID: 5, Loss: 0.050726499557495114, Accuracy: 0.414\n"
          ]
        },
        {
          "output_type": "stream",
          "name": "stderr",
          "text": [
            "DEBUG flwr 2023-04-27 20:17:33,739 | server.py:182 | evaluate_round 3 received 5 results and 0 failures\n",
            "DEBUG:flwr:evaluate_round 3 received 5 results and 0 failures\n",
            "DEBUG flwr 2023-04-27 20:17:33,747 | server.py:218 | fit_round 4: strategy sampled 10 clients (out of 10)\n",
            "DEBUG:flwr:fit_round 4: strategy sampled 10 clients (out of 10)\n"
          ]
        },
        {
          "output_type": "stream",
          "name": "stdout",
          "text": [
            "\u001b[2m\u001b[36m(launch_and_evaluate pid=61866)\u001b[0m Client ID: 0, Loss: 0.05311808896064758, Accuracy: 0.396\n",
            "\u001b[2m\u001b[36m(launch_and_fit pid=61974)\u001b[0m Client ID: 1, Parameters size: 249288 bytes, Total Time: 1.860\n",
            "\u001b[2m\u001b[36m(launch_and_fit pid=62047)\u001b[0m Client ID: 8, Parameters size: 249288 bytes, Total Time: 2.608\n",
            "\u001b[2m\u001b[36m(launch_and_fit pid=62129)\u001b[0m Client ID: 6, Parameters size: 249288 bytes, Total Time: 1.819\n",
            "\u001b[2m\u001b[36m(launch_and_fit pid=62206)\u001b[0m Client ID: 4, Parameters size: 249288 bytes, Total Time: 1.799\n",
            "\u001b[2m\u001b[36m(launch_and_fit pid=62293)\u001b[0m Client ID: 2, Parameters size: 249288 bytes, Total Time: 3.667\n",
            "\u001b[2m\u001b[36m(launch_and_fit pid=62381)\u001b[0m Client ID: 0, Parameters size: 249288 bytes, Total Time: 1.830\n",
            "\u001b[2m\u001b[36m(launch_and_fit pid=62461)\u001b[0m Client ID: 3, Parameters size: 249288 bytes, Total Time: 2.628\n",
            "\u001b[2m\u001b[36m(launch_and_fit pid=62540)\u001b[0m Client ID: 5, Parameters size: 249288 bytes, Total Time: 1.834\n",
            "\u001b[2m\u001b[36m(launch_and_fit pid=62616)\u001b[0m Client ID: 9, Parameters size: 249288 bytes, Total Time: 2.758\n"
          ]
        },
        {
          "output_type": "stream",
          "name": "stderr",
          "text": [
            "DEBUG flwr 2023-04-27 20:19:13,601 | server.py:232 | fit_round 4 received 10 results and 0 failures\n",
            "DEBUG:flwr:fit_round 4 received 10 results and 0 failures\n",
            "DEBUG flwr 2023-04-27 20:19:13,632 | server.py:168 | evaluate_round 4: strategy sampled 5 clients (out of 10)\n",
            "DEBUG:flwr:evaluate_round 4: strategy sampled 5 clients (out of 10)\n"
          ]
        },
        {
          "output_type": "stream",
          "name": "stdout",
          "text": [
            "\u001b[2m\u001b[36m(launch_and_fit pid=62695)\u001b[0m Client ID: 7, Parameters size: 249288 bytes, Total Time: 1.812\n",
            "\u001b[2m\u001b[36m(launch_and_evaluate pid=62805)\u001b[0m Client ID: 7, Loss: 0.04911205053329468, Accuracy: 0.438\n",
            "\u001b[2m\u001b[36m(launch_and_evaluate pid=62869)\u001b[0m Client ID: 9, Loss: 0.052279385089874265, Accuracy: 0.4\n",
            "\u001b[2m\u001b[36m(launch_and_evaluate pid=62934)\u001b[0m Client ID: 6, Loss: 0.05102495861053467, Accuracy: 0.42\n",
            "\u001b[2m\u001b[36m(launch_and_evaluate pid=63011)\u001b[0m Client ID: 3, Loss: 0.05142303657531738, Accuracy: 0.424\n"
          ]
        },
        {
          "output_type": "stream",
          "name": "stderr",
          "text": [
            "DEBUG flwr 2023-04-27 20:19:56,439 | server.py:182 | evaluate_round 4 received 5 results and 0 failures\n",
            "DEBUG:flwr:evaluate_round 4 received 5 results and 0 failures\n",
            "DEBUG flwr 2023-04-27 20:19:56,443 | server.py:218 | fit_round 5: strategy sampled 10 clients (out of 10)\n",
            "DEBUG:flwr:fit_round 5: strategy sampled 10 clients (out of 10)\n"
          ]
        },
        {
          "output_type": "stream",
          "name": "stdout",
          "text": [
            "\u001b[2m\u001b[36m(launch_and_evaluate pid=63077)\u001b[0m Client ID: 5, Loss: 0.04811129879951477, Accuracy: 0.438\n",
            "\u001b[2m\u001b[36m(launch_and_fit pid=63177)\u001b[0m Client ID: 0, Parameters size: 249288 bytes, Total Time: 2.909\n",
            "\u001b[2m\u001b[36m(launch_and_fit pid=63265)\u001b[0m Client ID: 6, Parameters size: 249288 bytes, Total Time: 1.812\n",
            "\u001b[2m\u001b[36m(launch_and_fit pid=63342)\u001b[0m Client ID: 7, Parameters size: 249288 bytes, Total Time: 1.825\n",
            "\u001b[2m\u001b[36m(launch_and_fit pid=63429)\u001b[0m Client ID: 3, Parameters size: 249288 bytes, Total Time: 2.070\n",
            "\u001b[2m\u001b[36m(launch_and_fit pid=63505)\u001b[0m Client ID: 8, Parameters size: 249288 bytes, Total Time: 1.855\n",
            "\u001b[2m\u001b[36m(launch_and_fit pid=63591)\u001b[0m Client ID: 4, Parameters size: 249288 bytes, Total Time: 2.687\n",
            "\u001b[2m\u001b[36m(launch_and_fit pid=63669)\u001b[0m Client ID: 2, Parameters size: 249288 bytes, Total Time: 1.813\n",
            "\u001b[2m\u001b[36m(launch_and_fit pid=63748)\u001b[0m Client ID: 1, Parameters size: 249288 bytes, Total Time: 2.834\n",
            "\u001b[2m\u001b[36m(launch_and_fit pid=63829)\u001b[0m Client ID: 5, Parameters size: 249288 bytes, Total Time: 1.857\n"
          ]
        },
        {
          "output_type": "stream",
          "name": "stderr",
          "text": [
            "DEBUG flwr 2023-04-27 20:21:35,087 | server.py:232 | fit_round 5 received 10 results and 0 failures\n",
            "DEBUG:flwr:fit_round 5 received 10 results and 0 failures\n",
            "DEBUG flwr 2023-04-27 20:21:35,122 | server.py:168 | evaluate_round 5: strategy sampled 5 clients (out of 10)\n",
            "DEBUG:flwr:evaluate_round 5: strategy sampled 5 clients (out of 10)\n"
          ]
        },
        {
          "output_type": "stream",
          "name": "stdout",
          "text": [
            "\u001b[2m\u001b[36m(launch_and_fit pid=63900)\u001b[0m Client ID: 9, Parameters size: 249288 bytes, Total Time: 2.736\n",
            "\u001b[2m\u001b[36m(launch_and_evaluate pid=64008)\u001b[0m Client ID: 3, Loss: 0.049455974340438844, Accuracy: 0.432\n",
            "\u001b[2m\u001b[1m\u001b[33m(autoscaler +11m41s)\u001b[0m Warning: The following resource request cannot be scheduled right now: {'GPU': 1.0, 'CPU': 1.0}. This is likely due to all cluster resources being claimed by actors. Consider creating fewer actors or adding more nodes to this Ray cluster.\n",
            "\u001b[2m\u001b[36m(launch_and_evaluate pid=64076)\u001b[0m Client ID: 2, Loss: 0.0505025806427002, Accuracy: 0.414\n",
            "\u001b[2m\u001b[36m(launch_and_evaluate pid=64148)\u001b[0m Client ID: 6, Loss: 0.04890633201599121, Accuracy: 0.436\n",
            "\u001b[2m\u001b[36m(launch_and_evaluate pid=64213)\u001b[0m Client ID: 7, Loss: 0.04780472278594971, Accuracy: 0.462\n"
          ]
        },
        {
          "output_type": "stream",
          "name": "stderr",
          "text": [
            "DEBUG flwr 2023-04-27 20:22:16,437 | server.py:182 | evaluate_round 5 received 5 results and 0 failures\n",
            "DEBUG:flwr:evaluate_round 5 received 5 results and 0 failures\n",
            "INFO flwr 2023-04-27 20:22:16,444 | server.py:147 | FL finished in 704.8255090269995\n",
            "INFO:flwr:FL finished in 704.8255090269995\n",
            "INFO flwr 2023-04-27 20:22:16,447 | app.py:218 | app_fit: losses_distributed [(1, 0.06353171119689942), (2, 0.05665622801780701), (3, 0.0522362476825714), (4, 0.05039014592170715), (5, 0.04931559190750122)]\n",
            "INFO:flwr:app_fit: losses_distributed [(1, 0.06353171119689942), (2, 0.05665622801780701), (3, 0.0522362476825714), (4, 0.05039014592170715), (5, 0.04931559190750122)]\n",
            "INFO flwr 2023-04-27 20:22:16,449 | app.py:219 | app_fit: metrics_distributed_fit {}\n",
            "INFO:flwr:app_fit: metrics_distributed_fit {}\n",
            "INFO flwr 2023-04-27 20:22:16,451 | app.py:220 | app_fit: metrics_distributed {'accuracy': [(1, 0.28080000000000005), (2, 0.34680000000000005), (3, 0.40199999999999997), (4, 0.42400000000000004), (5, 0.42919999999999997)]}\n",
            "INFO:flwr:app_fit: metrics_distributed {'accuracy': [(1, 0.28080000000000005), (2, 0.34680000000000005), (3, 0.40199999999999997), (4, 0.42400000000000004), (5, 0.42919999999999997)]}\n",
            "INFO flwr 2023-04-27 20:22:16,456 | app.py:221 | app_fit: losses_centralized []\n",
            "INFO:flwr:app_fit: losses_centralized []\n",
            "INFO flwr 2023-04-27 20:22:16,458 | app.py:222 | app_fit: metrics_centralized {}\n",
            "INFO:flwr:app_fit: metrics_centralized {}\n"
          ]
        },
        {
          "output_type": "execute_result",
          "data": {
            "text/plain": [
              "History (loss, distributed):\n",
              "\tround 1: 0.06353171119689942\n",
              "\tround 2: 0.05665622801780701\n",
              "\tround 3: 0.0522362476825714\n",
              "\tround 4: 0.05039014592170715\n",
              "\tround 5: 0.04931559190750122\n",
              "History (metrics, distributed, evaluate):\n",
              "{'accuracy': [(1, 0.28080000000000005), (2, 0.34680000000000005), (3, 0.40199999999999997), (4, 0.42400000000000004), (5, 0.42919999999999997)]}"
            ]
          },
          "metadata": {},
          "execution_count": 16
        },
        {
          "output_type": "stream",
          "name": "stdout",
          "text": [
            "\u001b[2m\u001b[36m(launch_and_evaluate pid=64291)\u001b[0m Client ID: 0, Loss: 0.04990834975242615, Accuracy: 0.402\n"
          ]
        }
      ],
      "source": [
        "# Create FedAvg strategy\n",
        "strategy = fl.server.strategy.FedAvg(\n",
        "    fraction_fit=1.0,\n",
        "    fraction_evaluate=0.5,\n",
        "    min_fit_clients=10,\n",
        "    min_evaluate_clients=5,\n",
        "    min_available_clients=10,\n",
        "    evaluate_metrics_aggregation_fn=weighted_average,  # <-- pass the metric aggregation function\n",
        ")\n",
        "client_resources = None\n",
        "if DEVICE.type == \"cuda\":\n",
        "    client_resources = {\"num_gpus\": 1}\n",
        "# Start simulation\n",
        "fl.simulation.start_simulation(\n",
        "    client_fn=client_fn,\n",
        "    num_clients=NUM_CLIENTS,\n",
        "    config=fl.server.ServerConfig(num_rounds=5),\n",
        "    strategy=strategy,\n",
        "    client_resources=client_resources,\n",
        ")\n",
        "\n"
      ]
    },
    {
      "cell_type": "code",
      "source": [
        "\n",
        "file_key = \"client*.txt\"\n",
        "file_name = input(\"Enter file name with no .txt extension: \")\n",
        "input_file_name = file_name + '.txt'\n",
        "with open(input_file_name, \"w\") as outfile:\n",
        "  for file in glob.glob(file_key):\n",
        "    with open(file, 'r') as infile:\n",
        "      outfile.write(infile.read())\n",
        "      outfile.write(\"\\n\")\n"
      ],
      "metadata": {
        "colab": {
          "base_uri": "https://localhost:8080/"
        },
        "id": "61nWXlfGiWjG",
        "outputId": "0cde9daf-a79c-4a59-d89c-a13a7a0ed5ee"
      },
      "execution_count": 17,
      "outputs": [
        {
          "name": "stdout",
          "output_type": "stream",
          "text": [
            "Enter file name with no .txt extension: output\n"
          ]
        }
      ]
    },
    {
      "cell_type": "code",
      "source": [],
      "metadata": {
        "id": "f3QbIAdh3WGB"
      },
      "execution_count": 17,
      "outputs": []
    }
  ],
  "metadata": {
    "colab": {
      "provenance": [],
      "gpuType": "T4",
      "include_colab_link": true
    },
    "kernelspec": {
      "display_name": "flower-3.7.12",
      "language": "python",
      "name": "python3"
    },
    "accelerator": "GPU",
    "gpuClass": "standard"
  },
  "nbformat": 4,
  "nbformat_minor": 0
}